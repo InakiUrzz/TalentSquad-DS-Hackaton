{
 "cells": [
  {
   "cell_type": "markdown",
   "metadata": {},
   "source": [
    "# Talent Squad Hackaton 2022\n",
    "___\n",
    "## - Objetive:\n",
    "\n",
    "The objective of the challenge will be to develop a predictive model that allows to know the type of eruption that a rocket will have depending on the vibrations measured by the sensors.\n",
    "\n",
    "Once the predictive model has been made and trained, it will have to be used with the features of the testing dataset 'space_X_test.csv'. These predictions will have to be delivered in csv format as in the example. Where only one column will have to appear in which the first row is any text and the predictions start in row 2.\n",
    "\n",
    "The quality of the prediction will be measured from the f1-score (macro)\n",
    "\n",
    "\n"
   ]
  },
  {
   "cell_type": "markdown",
   "metadata": {},
   "source": [
    "___"
   ]
  },
  {
   "cell_type": "code",
   "execution_count": 2,
   "metadata": {},
   "outputs": [],
   "source": [
    "#Import the libraries:\n",
    "import pandas as pd\n",
    "import matplotlib.pyplot as plt\n",
    "import seaborn as sns\n",
    "import numpy as np\n",
    "from sklearn import preprocessing\n",
    "from sklearn.preprocessing import RobustScaler, StandardScaler, MinMaxScaler\n",
    "from sklearn.model_selection import train_test_split\n",
    "from sklearn.pipeline import make_pipeline\n",
    "from sklearn.pipeline import Pipeline\n",
    "from sklearn.ensemble import RandomForestClassifier\n",
    "from sklearn.datasets import make_classification\n",
    "from sklearn import metrics \n",
    "from sklearn.metrics import confusion_matrix, classification_report\n",
    "from sklearn.metrics import f1_score, make_scorer\n",
    "from sklearn.compose import ColumnTransformer\n",
    "from catboost import CatBoostClassifier\n",
    "from sklearn.impute import SimpleImputer\n",
    "from sklearn.compose import make_column_selector\n",
    "from sklearn.model_selection import GridSearchCV\n",
    "from sklearn.model_selection import cross_val_score\n",
    "from sklearn.metrics import roc_curve\n",
    "from sklearn.metrics import roc_auc_score\n",
    "from sklearn.metrics import precision_score, recall_score\n",
    "from sklearn.metrics import plot_confusion_matrix\n",
    "import xgboost as xgb\n",
    "from sklearn.ensemble import AdaBoostClassifier\n",
    "from sklearn.neighbors import KNeighborsClassifier\n",
    "\n",
    "import warnings\n",
    "warnings.filterwarnings(\"ignore\")\n"
   ]
  },
  {
   "cell_type": "markdown",
   "metadata": {},
   "source": [
    "___"
   ]
  },
  {
   "cell_type": "markdown",
   "metadata": {},
   "source": [
    "## Exploratory Analysis"
   ]
  },
  {
   "cell_type": "code",
   "execution_count": 3,
   "metadata": {},
   "outputs": [
    {
     "data": {
      "text/html": [
       "<div>\n",
       "<style scoped>\n",
       "    .dataframe tbody tr th:only-of-type {\n",
       "        vertical-align: middle;\n",
       "    }\n",
       "\n",
       "    .dataframe tbody tr th {\n",
       "        vertical-align: top;\n",
       "    }\n",
       "\n",
       "    .dataframe thead th {\n",
       "        text-align: right;\n",
       "    }\n",
       "</style>\n",
       "<table border=\"1\" class=\"dataframe\">\n",
       "  <thead>\n",
       "    <tr style=\"text-align: right;\">\n",
       "      <th></th>\n",
       "      <th>sensor_1</th>\n",
       "      <th>sensor_2</th>\n",
       "      <th>sensor_3</th>\n",
       "      <th>sensor_4</th>\n",
       "      <th>sensor_5</th>\n",
       "      <th>sensor_6</th>\n",
       "      <th>target</th>\n",
       "    </tr>\n",
       "  </thead>\n",
       "  <tbody>\n",
       "    <tr>\n",
       "      <th>0</th>\n",
       "      <td>0.474335</td>\n",
       "      <td>0.881640</td>\n",
       "      <td>-2.050543</td>\n",
       "      <td>-1.251935</td>\n",
       "      <td>-1.035151</td>\n",
       "      <td>-1.934367</td>\n",
       "      <td>4</td>\n",
       "    </tr>\n",
       "    <tr>\n",
       "      <th>1</th>\n",
       "      <td>-1.034675</td>\n",
       "      <td>1.741801</td>\n",
       "      <td>-1.660629</td>\n",
       "      <td>-1.555989</td>\n",
       "      <td>-0.337553</td>\n",
       "      <td>-2.473838</td>\n",
       "      <td>0</td>\n",
       "    </tr>\n",
       "    <tr>\n",
       "      <th>2</th>\n",
       "      <td>-0.563221</td>\n",
       "      <td>-0.688381</td>\n",
       "      <td>-0.318415</td>\n",
       "      <td>-1.845172</td>\n",
       "      <td>0.352366</td>\n",
       "      <td>-0.912928</td>\n",
       "      <td>1</td>\n",
       "    </tr>\n",
       "    <tr>\n",
       "      <th>3</th>\n",
       "      <td>-1.268179</td>\n",
       "      <td>2.770688</td>\n",
       "      <td>1.054193</td>\n",
       "      <td>2.830389</td>\n",
       "      <td>0.395093</td>\n",
       "      <td>0.677715</td>\n",
       "      <td>3</td>\n",
       "    </tr>\n",
       "    <tr>\n",
       "      <th>4</th>\n",
       "      <td>-1.216380</td>\n",
       "      <td>-0.391267</td>\n",
       "      <td>-2.898931</td>\n",
       "      <td>-0.913074</td>\n",
       "      <td>-2.171857</td>\n",
       "      <td>-2.367490</td>\n",
       "      <td>0</td>\n",
       "    </tr>\n",
       "  </tbody>\n",
       "</table>\n",
       "</div>"
      ],
      "text/plain": [
       "   sensor_1  sensor_2  sensor_3  sensor_4  sensor_5  sensor_6  target\n",
       "0  0.474335  0.881640 -2.050543 -1.251935 -1.035151 -1.934367       4\n",
       "1 -1.034675  1.741801 -1.660629 -1.555989 -0.337553 -2.473838       0\n",
       "2 -0.563221 -0.688381 -0.318415 -1.845172  0.352366 -0.912928       1\n",
       "3 -1.268179  2.770688  1.054193  2.830389  0.395093  0.677715       3\n",
       "4 -1.216380 -0.391267 -2.898931 -0.913074 -2.171857 -2.367490       0"
      ]
     },
     "execution_count": 3,
     "metadata": {},
     "output_type": "execute_result"
    }
   ],
   "source": [
    "#Import the DataSet:\n",
    "df= pd.read_csv('space_X_train.csv', index_col=0)\n",
    "df.head()"
   ]
  },
  {
   "cell_type": "code",
   "execution_count": 3,
   "metadata": {},
   "outputs": [
    {
     "data": {
      "text/html": [
       "<div>\n",
       "<style scoped>\n",
       "    .dataframe tbody tr th:only-of-type {\n",
       "        vertical-align: middle;\n",
       "    }\n",
       "\n",
       "    .dataframe tbody tr th {\n",
       "        vertical-align: top;\n",
       "    }\n",
       "\n",
       "    .dataframe thead th {\n",
       "        text-align: right;\n",
       "    }\n",
       "</style>\n",
       "<table border=\"1\" class=\"dataframe\">\n",
       "  <thead>\n",
       "    <tr style=\"text-align: right;\">\n",
       "      <th></th>\n",
       "      <th>count</th>\n",
       "      <th>mean</th>\n",
       "      <th>std</th>\n",
       "      <th>min</th>\n",
       "      <th>25%</th>\n",
       "      <th>50%</th>\n",
       "      <th>75%</th>\n",
       "      <th>max</th>\n",
       "    </tr>\n",
       "  </thead>\n",
       "  <tbody>\n",
       "    <tr>\n",
       "      <th>sensor_1</th>\n",
       "      <td>2100.0</td>\n",
       "      <td>-0.20</td>\n",
       "      <td>1.54</td>\n",
       "      <td>-6.68</td>\n",
       "      <td>-1.17</td>\n",
       "      <td>-0.44</td>\n",
       "      <td>0.89</td>\n",
       "      <td>4.57</td>\n",
       "    </tr>\n",
       "    <tr>\n",
       "      <th>sensor_2</th>\n",
       "      <td>2100.0</td>\n",
       "      <td>0.20</td>\n",
       "      <td>1.61</td>\n",
       "      <td>-5.38</td>\n",
       "      <td>-0.88</td>\n",
       "      <td>0.32</td>\n",
       "      <td>1.32</td>\n",
       "      <td>6.70</td>\n",
       "    </tr>\n",
       "    <tr>\n",
       "      <th>sensor_3</th>\n",
       "      <td>2100.0</td>\n",
       "      <td>-0.38</td>\n",
       "      <td>1.45</td>\n",
       "      <td>-6.15</td>\n",
       "      <td>-1.37</td>\n",
       "      <td>-0.44</td>\n",
       "      <td>0.66</td>\n",
       "      <td>4.16</td>\n",
       "    </tr>\n",
       "    <tr>\n",
       "      <th>sensor_4</th>\n",
       "      <td>2100.0</td>\n",
       "      <td>-0.21</td>\n",
       "      <td>1.44</td>\n",
       "      <td>-5.65</td>\n",
       "      <td>-1.26</td>\n",
       "      <td>-0.18</td>\n",
       "      <td>0.87</td>\n",
       "      <td>4.37</td>\n",
       "    </tr>\n",
       "    <tr>\n",
       "      <th>sensor_5</th>\n",
       "      <td>2100.0</td>\n",
       "      <td>-0.19</td>\n",
       "      <td>1.50</td>\n",
       "      <td>-5.91</td>\n",
       "      <td>-1.21</td>\n",
       "      <td>-0.20</td>\n",
       "      <td>0.85</td>\n",
       "      <td>5.07</td>\n",
       "    </tr>\n",
       "    <tr>\n",
       "      <th>sensor_6</th>\n",
       "      <td>2100.0</td>\n",
       "      <td>-0.43</td>\n",
       "      <td>1.19</td>\n",
       "      <td>-4.43</td>\n",
       "      <td>-1.13</td>\n",
       "      <td>-0.41</td>\n",
       "      <td>0.35</td>\n",
       "      <td>4.02</td>\n",
       "    </tr>\n",
       "    <tr>\n",
       "      <th>target</th>\n",
       "      <td>2100.0</td>\n",
       "      <td>1.98</td>\n",
       "      <td>1.41</td>\n",
       "      <td>0.00</td>\n",
       "      <td>1.00</td>\n",
       "      <td>2.00</td>\n",
       "      <td>3.00</td>\n",
       "      <td>4.00</td>\n",
       "    </tr>\n",
       "  </tbody>\n",
       "</table>\n",
       "</div>"
      ],
      "text/plain": [
       "           count  mean   std   min   25%   50%   75%   max\n",
       "sensor_1  2100.0 -0.20  1.54 -6.68 -1.17 -0.44  0.89  4.57\n",
       "sensor_2  2100.0  0.20  1.61 -5.38 -0.88  0.32  1.32  6.70\n",
       "sensor_3  2100.0 -0.38  1.45 -6.15 -1.37 -0.44  0.66  4.16\n",
       "sensor_4  2100.0 -0.21  1.44 -5.65 -1.26 -0.18  0.87  4.37\n",
       "sensor_5  2100.0 -0.19  1.50 -5.91 -1.21 -0.20  0.85  5.07\n",
       "sensor_6  2100.0 -0.43  1.19 -4.43 -1.13 -0.41  0.35  4.02\n",
       "target    2100.0  1.98  1.41  0.00  1.00  2.00  3.00  4.00"
      ]
     },
     "execution_count": 3,
     "metadata": {},
     "output_type": "execute_result"
    }
   ],
   "source": [
    "#Some statics from our Data Set:\n",
    "df.describe().round(2).T"
   ]
  },
  {
   "cell_type": "code",
   "execution_count": 4,
   "metadata": {},
   "outputs": [
    {
     "name": "stdout",
     "output_type": "stream",
     "text": [
      "<class 'pandas.core.frame.DataFrame'>\n",
      "Int64Index: 2100 entries, 0 to 2099\n",
      "Data columns (total 7 columns):\n",
      " #   Column    Non-Null Count  Dtype  \n",
      "---  ------    --------------  -----  \n",
      " 0   sensor_1  2100 non-null   float64\n",
      " 1   sensor_2  2100 non-null   float64\n",
      " 2   sensor_3  2100 non-null   float64\n",
      " 3   sensor_4  2100 non-null   float64\n",
      " 4   sensor_5  2100 non-null   float64\n",
      " 5   sensor_6  2100 non-null   float64\n",
      " 6   target    2100 non-null   int64  \n",
      "dtypes: float64(6), int64(1)\n",
      "memory usage: 131.2 KB\n"
     ]
    }
   ],
   "source": [
    "#Information and type of each column:\n",
    "df.info()"
   ]
  },
  {
   "cell_type": "code",
   "execution_count": 5,
   "metadata": {},
   "outputs": [
    {
     "data": {
      "text/plain": [
       "sensor_1    0\n",
       "sensor_2    0\n",
       "sensor_3    0\n",
       "sensor_4    0\n",
       "sensor_5    0\n",
       "sensor_6    0\n",
       "target      0\n",
       "dtype: int64"
      ]
     },
     "execution_count": 5,
     "metadata": {},
     "output_type": "execute_result"
    }
   ],
   "source": [
    "#Check the null values:\n",
    "df.isnull().sum()"
   ]
  },
  {
   "cell_type": "code",
   "execution_count": 61,
   "metadata": {},
   "outputs": [
    {
     "data": {
      "text/plain": [
       "0    427\n",
       "3    426\n",
       "1    423\n",
       "2    419\n",
       "4    405\n",
       "Name: target, dtype: int64"
      ]
     },
     "execution_count": 61,
     "metadata": {},
     "output_type": "execute_result"
    }
   ],
   "source": [
    "#Counting the values for each class:\n",
    "total_classes= df['target'].value_counts()\n",
    "total_classes"
   ]
  },
  {
   "cell_type": "code",
   "execution_count": 7,
   "metadata": {},
   "outputs": [
    {
     "data": {
      "image/png": "[encoded data removed]",
      "text/plain": [
       "<Figure size 720x576 with 1 Axes>"
      ]
     },
     "metadata": {
      "needs_background": "light"
     },
     "output_type": "display_data"
    }
   ],
   "source": [
    "#Plot the total values of each target\n",
    "fig = plt.figure(figsize=(10,8))\n",
    "\n",
    "#Set colors of each bar\n",
    "c = ['red', 'yellow', 'black', 'blue', 'orange']\n",
    "\n",
    "plt.bar(df['target'].unique(), total_classes,label= \"target\",color=c)\n",
    "\n",
    "plt.title(\"Total value per Target\",fontsize=20)\n",
    "\n",
    "plt.ylabel(\"Values\", fontsize=14)\n",
    "plt.xlabel(\"Target\", fontsize=14)\n",
    "\n",
    "plt.grid()\n",
    "plt.show()"
   ]
  },
  {
   "cell_type": "code",
   "execution_count": 8,
   "metadata": {},
   "outputs": [
    {
     "data": {
      "image/png": "[encoded data removed]",
      "text/plain": [
       "<Figure size 576x576 with 1 Axes>"
      ]
     },
     "metadata": {},
     "output_type": "display_data"
    }
   ],
   "source": [
    "#Donut Chart with the total of each cluster.\n",
    "plt.figure(figsize=(8,8))\n",
    "labels = [\"Target 0\", \"Target 3\", \"Target 1\", \"Target 2\", \"Target 4\"]\n",
    "explode = [0, 0 , 0, 0, 0.2]\n",
    "plt.pie(total_classes, labels = labels, autopct='%.2f%%', explode=explode, shadow=True)\n",
    "\n",
    "plt.title(\"Percentage of each target\",fontsize=20)\n",
    "plt.legend(title= \"Target Number:\", fontsize=12, loc=\"best\")\n",
    "\n",
    "plt.show()"
   ]
  },
  {
   "cell_type": "markdown",
   "metadata": {},
   "source": [
    "As the graph shows us the classes are balanced, so it is very good that this happens to have a better prediction of our algorithm and that it is not biased."
   ]
  },
  {
   "cell_type": "markdown",
   "metadata": {},
   "source": [
    "___"
   ]
  },
  {
   "cell_type": "code",
   "execution_count": 9,
   "metadata": {},
   "outputs": [
    {
     "data": {
      "image/png": "[encoded data removed]",
      "text/plain": [
       "<Figure size 576x360 with 1 Axes>"
      ]
     },
     "metadata": {
      "needs_background": "light"
     },
     "output_type": "display_data"
    }
   ],
   "source": [
    "#Ploteamos un Grafico de Densidad para ver la distribucion de los datos de cada insecto respecto al tiempo de registro:\n",
    "%matplotlib inline\n",
    "fig = plt.figure(figsize=(8,5))\n",
    "sns.kdeplot(data=df, x=\"sensor_1\", hue=\"target\")\n",
    "plt.title(\"Density Plot\",fontsize=20)\n",
    "plt.grid()\n",
    "plt.tight_layout()\n",
    "plt.show()"
   ]
  },
  {
   "cell_type": "markdown",
   "metadata": {},
   "source": [
    "This density plot shows the number of records that exist for each target with respect to sensor 1 and what values they occupy. While some of them follow a normal distribution, other targets such as 3 and 4 do not follow a normal distribution."
   ]
  },
  {
   "cell_type": "code",
   "execution_count": 59,
   "metadata": {},
   "outputs": [
    {
     "data": {
      "image/png": "[encoded data removed]",
      "text/plain": [
       "<Figure size 576x576 with 1 Axes>"
      ]
     },
     "metadata": {
      "needs_background": "light"
     },
     "output_type": "display_data"
    }
   ],
   "source": [
    "#Check the values of Sensor 1:\n",
    "fig = plt.figure(figsize=(8,8))\n",
    "\n",
    "#Boxplot\n",
    "sns.boxplot(x=df.target, y=df.sensor_1) \n",
    "\n",
    "plt.title('Box Plot Sensor 1', fontsize=20)\n",
    "plt.xlabel(\"Target\",fontsize=15)\n",
    "plt.ylabel(\"Value\", fontsize=15)\n",
    "plt.xticks(fontsize=18)\n",
    "plt.yticks(fontsize=18)\n",
    "\n",
    "\n",
    "\n",
    "plt.tight_layout()\n",
    "plt.grid()\n",
    "plt.show()"
   ]
  },
  {
   "cell_type": "markdown",
   "metadata": {},
   "source": [
    "We see here that we do not have so many outliers for targets 1,2,3 and 4 but we do for target 0. The boxplot allows us to easily see these values, as well as the quartiles that are the extremes of each box and the average that would be the line that divides each box and the outliers are plotted as points."
   ]
  },
  {
   "cell_type": "code",
   "execution_count": 60,
   "metadata": {},
   "outputs": [
    {
     "data": {
      "image/png": "[encoded data removed]",
      "text/plain": [
       "<Figure size 576x576 with 1 Axes>"
      ]
     },
     "metadata": {
      "needs_background": "light"
     },
     "output_type": "display_data"
    }
   ],
   "source": [
    "#Check the values of Sensor 2:\n",
    "\n",
    "\n",
    "fig = plt.figure(figsize=(8,8))\n",
    "\n",
    "#Boxplot\n",
    "sns.boxplot(x=df.target, y=df.sensor_2) \n",
    "\n",
    "plt.title('Box Plot Sensor 2', fontsize=22)\n",
    "plt.xlabel(\"Target\",fontsize=15)\n",
    "plt.ylabel(\"Value\", fontsize=15)\n",
    "plt.xticks(fontsize=18)\n",
    "plt.yticks(fontsize=18)\n",
    "\n",
    "\n",
    "\n",
    "plt.tight_layout()\n",
    "plt.grid()\n",
    "plt.show()"
   ]
  },
  {
   "cell_type": "markdown",
   "metadata": {},
   "source": [
    "Regarding sensor 2 each target has some outliers as the box plot shows"
   ]
  },
  {
   "cell_type": "code",
   "execution_count": 12,
   "metadata": {},
   "outputs": [
    {
     "data": {
      "text/plain": [
       "(2100, 7)"
      ]
     },
     "execution_count": 12,
     "metadata": {},
     "output_type": "execute_result"
    }
   ],
   "source": [
    "#Veamos el shape de nuestro dataset:\n",
    "df.shape"
   ]
  },
  {
   "cell_type": "code",
   "execution_count": 13,
   "metadata": {},
   "outputs": [
    {
     "data": {
      "image/png": "[encoded data removed]",
      "text/plain": [
       "<Figure size 1152x648 with 2 Axes>"
      ]
     },
     "metadata": {
      "needs_background": "light"
     },
     "output_type": "display_data"
    }
   ],
   "source": [
    "#Correlation:\n",
    "corr = df.corr()\n",
    "\n",
    "#Lets plot a HeatMap:\n",
    "np.ones_like(corr, dtype=bool)\n",
    "mask = np.triu(np.ones_like(corr, dtype=bool))\n",
    "corr\n",
    "fig, ax = plt.subplots(figsize=(16,9))# mask\n",
    "\n",
    "mask = np.triu(np.ones_like(corr, dtype=bool))# adjust mask and df\n",
    "\n",
    "mask = mask[1:, :-1]\n",
    "\n",
    "corr = corr.iloc[1:,:-1].copy()# plot heatmap\n",
    "\n",
    "sns.heatmap(corr, mask=mask, annot=True, fmt=\".2f\",\n",
    "           vmin=-1, vmax=1, cbar_kws={\"shrink\": .8})# yticks\n",
    "\n",
    "plt.yticks(rotation=0)\n",
    "plt.title(\"Heatmap\",  fontsize=20)\n",
    "plt.tight_layout()\n",
    "plt.show()"
   ]
  },
  {
   "cell_type": "markdown",
   "metadata": {},
   "source": [
    "This heat plot shows the correlation of our variables where the values can oscillate between -1 and 1, being positive correlation if it is greater than 0 or negative correlation if it is less than 0. Positive correlation means that when a value of our column increases, the columns with positive correlation on it will also increase, but if they have negative correlation when one value increases the other decreases.\n",
    "In this case most of the sensors have a positive correlation while others do not have a significant correlation or rather the values are close to 0 which means that (there is no significant interrelation between them) or they have a negative correlation (when one increases the other decreases). In this way we can easily know which columns correlate more than others."
   ]
  },
  {
   "cell_type": "markdown",
   "metadata": {},
   "source": [
    "___"
   ]
  },
  {
   "cell_type": "markdown",
   "metadata": {},
   "source": [
    " ## Predictive Model\n",
    "Once we cleared up the data with which we are going to work, checking the type of data of my columns, the verification of null values, correlation of variables, etc. We will now consider the problem we want to solve.\n",
    " As we are facing a classification problem, where we are going to train our algorithm with the Train dataset and then give as input the Test dataset to predict our target (turbulence type).\n",
    " In this case I will use the CatBoost Classifier algorithm. This model works very well because it is very fast to process data."
   ]
  },
  {
   "cell_type": "code",
   "execution_count": 4,
   "metadata": {},
   "outputs": [
    {
     "name": "stdout",
     "output_type": "stream",
     "text": [
      "(2100, 6)\n",
      "(2100,)\n"
     ]
    }
   ],
   "source": [
    "#Dividimos el Dataset en dos variables X e Y, y quitamos las columnas que no nos interesan.\n",
    "\n",
    "X = df.drop(['target'], axis= 1)\n",
    "y = df['target']\n",
    "\n",
    "print(X.shape)\n",
    "print(y.shape)"
   ]
  },
  {
   "cell_type": "code",
   "execution_count": 5,
   "metadata": {},
   "outputs": [],
   "source": [
    "#Dividimos el dataset en dos Train and Test con la libreria de Sk learn para entrenar nuestro modelo y luego evaluarlo:\n",
    "\n",
    "X_train, X_test, y_train, y_test = train_test_split(X, y, stratify=y, test_size=0.2, random_state=42)"
   ]
  },
  {
   "cell_type": "code",
   "execution_count": 6,
   "metadata": {},
   "outputs": [
    {
     "name": "stdout",
     "output_type": "stream",
     "text": [
      "Accuracy: 0.7928571428571428\n",
      "Precision: 0.7932835356364768\n",
      "Recall: 0.7934348797490044\n",
      "F1: 0.7929906518786128\n"
     ]
    }
   ],
   "source": [
    "#Create an object with our CatBoost Model\n",
    "\n",
    "model = CatBoostClassifier(verbose=False)\n",
    "model.fit(X_train, y_train)\n",
    "\n",
    "#Lets predict some values:\n",
    "model_pred =model.predict(X_test)\n",
    "\n",
    "#Evaluate our Model\n",
    "print(\"Accuracy:\",metrics.accuracy_score(y_test, model_pred))\n",
    "# Precision: \n",
    "precision_model = precision_score(model_pred, y_test, average='macro')\n",
    "print('Precision:', precision_model)\n",
    "# Recall: \n",
    "recall_model = recall_score(model_pred, y_test, average='macro')\n",
    "print('Recall:', recall_model)\n",
    "# f1 score\n",
    "f1_model = f1_score(model_pred, y_test, average='macro')\n",
    "print('F1:', f1_model)"
   ]
  },
  {
   "cell_type": "markdown",
   "metadata": {},
   "source": [
    "___\n",
    "## CatBoost Classifier:"
   ]
  },
  {
   "cell_type": "code",
   "execution_count": 7,
   "metadata": {},
   "outputs": [
    {
     "name": "stdout",
     "output_type": "stream",
     "text": [
      "Accuracy: 0.7928571428571428\n",
      "Precision: 0.7932835356364768\n",
      "Recall: 0.7934348797490044\n",
      "F1: 0.7929906518786128\n"
     ]
    }
   ],
   "source": [
    "# Preprocedado\n",
    "# ==============================================================================\n",
    "\n",
    "# DataFrame with numeric columns\n",
    "numeric_cols = X_train.select_dtypes(include=['float64', 'int']).columns.to_list()\n",
    "\n",
    "# Apply Robust Scaler to the numerical variables\n",
    "numeric_transformer = Pipeline(\n",
    "                        steps=[('scaler', RobustScaler())]\n",
    "                      )\n",
    "\n",
    "\n",
    "preprocessor = ColumnTransformer(\n",
    "                    transformers=[\n",
    "                        ('numeric', numeric_transformer, numeric_cols)\n",
    "                    ],\n",
    "                    remainder='passthrough'\n",
    "                )\n",
    "\n",
    "# Pipeline\n",
    "# ==============================================================================\n",
    "\n",
    "# Combining the steps and create a Pipeline\n",
    "\n",
    "pipe = Pipeline([('preprocessing', preprocessor),\n",
    "                ('data_scaling',numeric_transformer),\n",
    "                ('model',CatBoostClassifier(verbose=False))])\n",
    "\n",
    "# Train\n",
    "# ==============================================================================\n",
    "# Fit the data\n",
    "_ = pipe.fit(X=X_train, y=y_train)\n",
    "\n",
    "\n",
    "#Predict the result:\n",
    "pipe_pred = pipe.predict(X_test)\n",
    "\n",
    "#Veamos las metricas de evaluación que obtuvimos:\n",
    "\n",
    "print(\"Accuracy:\",metrics.accuracy_score(y_test, pipe_pred))\n",
    "# Precision: \n",
    "precision_pipe = precision_score(pipe_pred, y_test, average='macro')\n",
    "print('Precision:', precision_pipe)\n",
    "# Recall: \n",
    "recall_pipe = recall_score(pipe_pred, y_test, average='macro')\n",
    "print('Recall:', recall_pipe)\n",
    "# f1 score\n",
    "f1_pipe = f1_score(pipe_pred, y_test, average='macro')\n",
    "print('F1:', f1_pipe)"
   ]
  },
  {
   "cell_type": "code",
   "execution_count": 8,
   "metadata": {},
   "outputs": [
    {
     "name": "stdout",
     "output_type": "stream",
     "text": [
      "[0.78513866 0.76972689 0.80199537 0.77829249 0.76724699]\n",
      "Average 5-Fold CV Score: 0.7804800789486245\n",
      "F1 First model: 0.7929906518786128\n"
     ]
    }
   ],
   "source": [
    "#5 cross-validation scores:\n",
    "pipe_cv = cross_val_score(pipe,X,y,cv=5, scoring='f1_macro',  error_score='raise', verbose=False ) \n",
    "\n",
    "#Show the values:\n",
    "print(pipe_cv)\n",
    "print(\"Average 5-Fold CV Score: {}\".format(np.mean(pipe_cv)))\n",
    "print('F1 First model:', f1_pipe)"
   ]
  },
  {
   "cell_type": "code",
   "execution_count": 26,
   "metadata": {},
   "outputs": [
    {
     "name": "stdout",
     "output_type": "stream",
     "text": [
      "[[72  7  4  2  0]\n",
      " [ 5 64  4 11  1]\n",
      " [ 6  9 62  3  4]\n",
      " [ 2  3  6 66  8]\n",
      " [ 3  0  2  7 69]]\n"
     ]
    }
   ],
   "source": [
    "#Confusion Matrix:\n",
    "cm_rf = confusion_matrix(y_test, pipe_pred)\n",
    "\n",
    "print(cm_rf)"
   ]
  },
  {
   "cell_type": "code",
   "execution_count": 23,
   "metadata": {},
   "outputs": [
    {
     "data": {
      "image/png": "[encoded data removed]",
      "text/plain": [
       "<Figure size 648x648 with 2 Axes>"
      ]
     },
     "metadata": {
      "needs_background": "light"
     },
     "output_type": "display_data"
    }
   ],
   "source": [
    "#Ploteamos la matriz de confusión:\n",
    "plt.figure(figsize=(9,9))\n",
    "\n",
    "\n",
    "ax = sns.heatmap(cm_rf, annot=True, fmt='', cmap='Blues')\n",
    "\n",
    "title = 'F1: {0}'.format(f1_pipe.round(3))\n",
    "ax.set_title(title, fontsize=14);\n",
    "\n",
    "\n",
    "ax.set_xlabel('Predicted Label',fontsize=14)\n",
    "ax.set_ylabel('True Label', fontsize=14);\n",
    "\n",
    "\n",
    "\n",
    "##Mostramos la matriz.\n",
    "plt.show()"
   ]
  },
  {
   "cell_type": "markdown",
   "metadata": {},
   "source": [
    "Here we can see that the main diagonal shows the successes that the model had in classifying our target. While the other data correspond to what the algorithm predicted but was actually another type of turbulence."
   ]
  },
  {
   "cell_type": "markdown",
   "metadata": {},
   "source": [
    "___"
   ]
  },
  {
   "cell_type": "markdown",
   "metadata": {},
   "source": [
    "### Once we have our model trained we proceed to pass the data from our Test.csv to see what results we get:"
   ]
  },
  {
   "cell_type": "code",
   "execution_count": 24,
   "metadata": {},
   "outputs": [
    {
     "data": {
      "text/html": [
       "<div>\n",
       "<style scoped>\n",
       "    .dataframe tbody tr th:only-of-type {\n",
       "        vertical-align: middle;\n",
       "    }\n",
       "\n",
       "    .dataframe tbody tr th {\n",
       "        vertical-align: top;\n",
       "    }\n",
       "\n",
       "    .dataframe thead th {\n",
       "        text-align: right;\n",
       "    }\n",
       "</style>\n",
       "<table border=\"1\" class=\"dataframe\">\n",
       "  <thead>\n",
       "    <tr style=\"text-align: right;\">\n",
       "      <th></th>\n",
       "      <th>sensor_1</th>\n",
       "      <th>sensor_2</th>\n",
       "      <th>sensor_3</th>\n",
       "      <th>sensor_4</th>\n",
       "      <th>sensor_5</th>\n",
       "      <th>sensor_6</th>\n",
       "    </tr>\n",
       "  </thead>\n",
       "  <tbody>\n",
       "    <tr>\n",
       "      <th>0</th>\n",
       "      <td>0.943723</td>\n",
       "      <td>-2.985473</td>\n",
       "      <td>-0.938218</td>\n",
       "      <td>3.580261</td>\n",
       "      <td>-3.038106</td>\n",
       "      <td>2.080338</td>\n",
       "    </tr>\n",
       "    <tr>\n",
       "      <th>1</th>\n",
       "      <td>-0.899819</td>\n",
       "      <td>1.295568</td>\n",
       "      <td>1.274513</td>\n",
       "      <td>0.718186</td>\n",
       "      <td>1.117035</td>\n",
       "      <td>0.463068</td>\n",
       "    </tr>\n",
       "    <tr>\n",
       "      <th>2</th>\n",
       "      <td>0.293281</td>\n",
       "      <td>-0.099317</td>\n",
       "      <td>1.874902</td>\n",
       "      <td>-0.589582</td>\n",
       "      <td>1.828441</td>\n",
       "      <td>1.011596</td>\n",
       "    </tr>\n",
       "    <tr>\n",
       "      <th>3</th>\n",
       "      <td>-1.134804</td>\n",
       "      <td>0.888585</td>\n",
       "      <td>-1.464499</td>\n",
       "      <td>-1.183056</td>\n",
       "      <td>-0.525729</td>\n",
       "      <td>-1.963822</td>\n",
       "    </tr>\n",
       "    <tr>\n",
       "      <th>4</th>\n",
       "      <td>-0.909240</td>\n",
       "      <td>1.575797</td>\n",
       "      <td>0.697212</td>\n",
       "      <td>1.197092</td>\n",
       "      <td>0.486185</td>\n",
       "      <td>0.222644</td>\n",
       "    </tr>\n",
       "  </tbody>\n",
       "</table>\n",
       "</div>"
      ],
      "text/plain": [
       "   sensor_1  sensor_2  sensor_3  sensor_4  sensor_5  sensor_6\n",
       "0  0.943723 -2.985473 -0.938218  3.580261 -3.038106  2.080338\n",
       "1 -0.899819  1.295568  1.274513  0.718186  1.117035  0.463068\n",
       "2  0.293281 -0.099317  1.874902 -0.589582  1.828441  1.011596\n",
       "3 -1.134804  0.888585 -1.464499 -1.183056 -0.525729 -1.963822\n",
       "4 -0.909240  1.575797  0.697212  1.197092  0.486185  0.222644"
      ]
     },
     "execution_count": 24,
     "metadata": {},
     "output_type": "execute_result"
    }
   ],
   "source": [
    "#Importamos el Test DataSet:\n",
    "df_test = pd.read_csv('space_X_test.csv', index_col=0)\n",
    "df_test.head()\n"
   ]
  },
  {
   "cell_type": "code",
   "execution_count": 25,
   "metadata": {},
   "outputs": [
    {
     "data": {
      "text/plain": [
       "(900, 6)"
      ]
     },
     "execution_count": 25,
     "metadata": {},
     "output_type": "execute_result"
    }
   ],
   "source": [
    "df_test.shape"
   ]
  },
  {
   "cell_type": "markdown",
   "metadata": {},
   "source": [
    "Training our model with all the data to predict the results:"
   ]
  },
  {
   "cell_type": "code",
   "execution_count": 9,
   "metadata": {},
   "outputs": [],
   "source": [
    "# Preprocessing\n",
    "# ==============================================================================\n",
    "\n",
    "# DataFrame with numeric columns\n",
    "numeric_cols = X_train.select_dtypes(include=['float64', 'int']).columns.to_list()\n",
    "\n",
    "# Apply Robust Scaler to the numerical variables\n",
    "numeric_transformer = Pipeline(\n",
    "                        steps=[('scaler', RobustScaler())]\n",
    "                      )\n",
    "\n",
    "\n",
    "preprocessor = ColumnTransformer(\n",
    "                    transformers=[\n",
    "                        ('numeric', numeric_transformer, numeric_cols)\n",
    "                    ],\n",
    "                    remainder='passthrough'\n",
    "                )\n",
    "\n",
    "# Pipeline\n",
    "# ==============================================================================\n",
    "\n",
    "# Combining the steps and create a Pipeline\n",
    "\n",
    "pipe = Pipeline([('preprocessing', preprocessor),\n",
    "                ('data_scaling',numeric_transformer),\n",
    "                ('model',CatBoostClassifier(verbose=False))])\n",
    "\n",
    "# Train\n",
    "# ==============================================================================\n",
    "# Fit with all the data\n",
    "_ = pipe.fit(X=X, y=y)\n"
   ]
  },
  {
   "cell_type": "code",
   "execution_count": 53,
   "metadata": {},
   "outputs": [],
   "source": [
    "#Predict the result:\n",
    "results = pipe.predict(df_test)\n"
   ]
  },
  {
   "cell_type": "code",
   "execution_count": 54,
   "metadata": {},
   "outputs": [],
   "source": [
    "results = results.flatten()"
   ]
  },
  {
   "cell_type": "code",
   "execution_count": 55,
   "metadata": {},
   "outputs": [],
   "source": [
    "#Create the Dataframe with the results:\n",
    "results=pd.DataFrame({'Predicted Target':results})"
   ]
  },
  {
   "cell_type": "code",
   "execution_count": 56,
   "metadata": {},
   "outputs": [
    {
     "data": {
      "text/html": [
       "<div>\n",
       "<style scoped>\n",
       "    .dataframe tbody tr th:only-of-type {\n",
       "        vertical-align: middle;\n",
       "    }\n",
       "\n",
       "    .dataframe tbody tr th {\n",
       "        vertical-align: top;\n",
       "    }\n",
       "\n",
       "    .dataframe thead th {\n",
       "        text-align: right;\n",
       "    }\n",
       "</style>\n",
       "<table border=\"1\" class=\"dataframe\">\n",
       "  <thead>\n",
       "    <tr style=\"text-align: right;\">\n",
       "      <th></th>\n",
       "      <th>Predicted Target</th>\n",
       "    </tr>\n",
       "  </thead>\n",
       "  <tbody>\n",
       "    <tr>\n",
       "      <th>2</th>\n",
       "      <td>1</td>\n",
       "    </tr>\n",
       "    <tr>\n",
       "      <th>3</th>\n",
       "      <td>3</td>\n",
       "    </tr>\n",
       "    <tr>\n",
       "      <th>4</th>\n",
       "      <td>2</td>\n",
       "    </tr>\n",
       "    <tr>\n",
       "      <th>5</th>\n",
       "      <td>0</td>\n",
       "    </tr>\n",
       "    <tr>\n",
       "      <th>6</th>\n",
       "      <td>3</td>\n",
       "    </tr>\n",
       "    <tr>\n",
       "      <th>...</th>\n",
       "      <td>...</td>\n",
       "    </tr>\n",
       "    <tr>\n",
       "      <th>897</th>\n",
       "      <td>3</td>\n",
       "    </tr>\n",
       "    <tr>\n",
       "      <th>898</th>\n",
       "      <td>4</td>\n",
       "    </tr>\n",
       "    <tr>\n",
       "      <th>899</th>\n",
       "      <td>0</td>\n",
       "    </tr>\n",
       "    <tr>\n",
       "      <th>900</th>\n",
       "      <td>3</td>\n",
       "    </tr>\n",
       "    <tr>\n",
       "      <th>901</th>\n",
       "      <td>4</td>\n",
       "    </tr>\n",
       "  </tbody>\n",
       "</table>\n",
       "<p>900 rows × 1 columns</p>\n",
       "</div>"
      ],
      "text/plain": [
       "     Predicted Target\n",
       "2                   1\n",
       "3                   3\n",
       "4                   2\n",
       "5                   0\n",
       "6                   3\n",
       "..                ...\n",
       "897                 3\n",
       "898                 4\n",
       "899                 0\n",
       "900                 3\n",
       "901                 4\n",
       "\n",
       "[900 rows x 1 columns]"
      ]
     },
     "execution_count": 56,
     "metadata": {},
     "output_type": "execute_result"
    }
   ],
   "source": [
    " #Set the index to start at 2:\n",
    " results.index = np.arange(2, len(results)+2)\n",
    " results"
   ]
  },
  {
   "cell_type": "code",
   "execution_count": 57,
   "metadata": {},
   "outputs": [],
   "source": [
    "# Save the DataFrame with the predictions:\n",
    "\n",
    "results.to_csv('results.csv', header=True, index=True)\n"
   ]
  },
  {
   "cell_type": "markdown",
   "metadata": {},
   "source": [
    "___\n",
    "### Conlusion: \n",
    "Although different types of algorithms were tested such as, Random Forest Classifier,AdaBoostClassifier, KNeighbors Classifier, Logistic Regression, etc. The best F1 macro result was obtained with the CatBoost Classifier, with a result of 0.793.\n",
    " The result could be higher if we had more data to train our model, anyway I think the result was quite acceptable when predicting the type of turbulence."
   ]
  },
  {
   "cell_type": "markdown",
   "metadata": {},
   "source": [
    "___\n"
   ]
  },
  {
   "cell_type": "markdown",
   "metadata": {},
   "source": [
    "Documentation:\n",
    "- CatBoost Classifier: https://catboost.ai/en/docs/concepts/python-reference_catboostclassifier\n",
    "- Cross Validation: https://scikit-learn.org/stable/modules/cross_validation.html"
   ]
  }
 ],
 "metadata": {
  "interpreter": {
   "hash": "aee8b7b246df8f9039afb4144a1f6fd8d2ca17a180786b69acc140d282b71a49"
  },
  "kernelspec": {
   "display_name": "Python 3.9.13 64-bit",
   "language": "python",
   "name": "python3"
  },
  "language_info": {
   "codemirror_mode": {
    "name": "ipython",
    "version": 3
   },
   "file_extension": ".py",
   "mimetype": "text/x-python",
   "name": "python",
   "nbconvert_exporter": "python",
   "pygments_lexer": "ipython3",
   "version": "3.9.13"
  }
 },
 "nbformat": 4,
 "nbformat_minor": 2
}
